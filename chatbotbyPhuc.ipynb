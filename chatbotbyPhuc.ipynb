{
 "cells": [
  {
   "cell_type": "code",
   "execution_count": 2,
   "id": "c577fa73",
   "metadata": {},
   "outputs": [],
   "source": [
    "from langchain.text_splitter import RecursiveCharacterTextSplitter\n",
    "from langchain.embeddings import HuggingFaceEmbeddings\n",
    "from langchain_community.vectorstores import FAISS\n",
    "from groq import Groq\n",
    "from apikey import api\n",
    "import json"
   ]
  },
  {
   "cell_type": "code",
   "execution_count": 3,
   "id": "76f2b682",
   "metadata": {},
   "outputs": [],
   "source": [
    "with open(\"dataset.json\", \"r\", encoding=\"utf-8\") as f:\n",
    "    dataset = json.load(f)\n",
    "\n",
    "data = \"\"\n",
    "for item in dataset:\n",
    "    data += f\"Problem: {item['problem']}\\n\"\n",
    "    data += f\"Solution: {item['solution']}\\n\\n\""
   ]
  },
  {
   "cell_type": "code",
   "execution_count": 4,
   "id": "f29422f5",
   "metadata": {},
   "outputs": [],
   "source": [
    "splitter = RecursiveCharacterTextSplitter(chunk_size=1000, chunk_overlap=200)\n",
    "chunks = splitter.create_documents([data])"
   ]
  },
  {
   "cell_type": "code",
   "execution_count": 5,
   "id": "7ebb4e88",
   "metadata": {},
   "outputs": [
    {
     "name": "stderr",
     "output_type": "stream",
     "text": [
      "C:\\Users\\PC\\AppData\\Local\\Temp\\ipykernel_26216\\1943558866.py:1: LangChainDeprecationWarning: The class `HuggingFaceEmbeddings` was deprecated in LangChain 0.2.2 and will be removed in 1.0. An updated version of the class exists in the :class:`~langchain-huggingface package and should be used instead. To use it run `pip install -U :class:`~langchain-huggingface` and import as `from :class:`~langchain_huggingface import HuggingFaceEmbeddings``.\n",
      "  embeddings = HuggingFaceEmbeddings(model_name=\"BAAI/bge-small-en-v1.5\")\n",
      "c:\\Users\\PC\\anaconda3\\envs\\orb-slam-py\\lib\\site-packages\\tqdm\\auto.py:21: TqdmWarning: IProgress not found. Please update jupyter and ipywidgets. See https://ipywidgets.readthedocs.io/en/stable/user_install.html\n",
      "  from .autonotebook import tqdm as notebook_tqdm\n"
     ]
    }
   ],
   "source": [
    "embeddings = HuggingFaceEmbeddings(model_name=\"BAAI/bge-small-en-v1.5\")\n",
    "vector_store = FAISS.from_documents(chunks, embeddings)"
   ]
  },
  {
   "cell_type": "code",
   "execution_count": 6,
   "id": "9e4aa07a",
   "metadata": {},
   "outputs": [],
   "source": [
    "client = Groq(api_key=api)"
   ]
  },
  {
   "cell_type": "code",
   "execution_count": null,
   "id": "197c6950",
   "metadata": {},
   "outputs": [],
   "source": [
    "def get_answer(question: str) -> str:\n",
    "    retriever = vector_store.as_retriever(search_type=\"similarity\", search_kwargs={\"k\": 8})\n",
    "    retrieved_docs = retriever.invoke(question)\n",
    "    context = \"\\n\\n\".join(doc.page_content for doc in retrieved_docs)\n",
    "\n",
    "    prompt = f\"\"\"Câu hỏi: {question}\n",
    "            Ngữ cảnh: {context}\n",
    "            Yêu cầu: \n",
    "            - Hãy phân tích vấn đề và đưa ra lời giải bằng TIẾNG VIỆT\n",
    "            - Giải thích từng bước giải quyết vấn đề\n",
    "            - Nếu có code mẫu, hãy chú thích rõ ràng bằng tiếng Việt\n",
    "            - Đưa ra các lưu ý về độ phức tạp và cách tối ưu (nếu có)\n",
    "            Trả lời:\"\"\"\n",
    "\n",
    "    response = client.chat.completions.create(\n",
    "        model=\"llama3-70b-8192\",\n",
    "        messages=[\n",
    "            {\"role\": \"system\", \"content\": \"\"\"Bạn là trợ lý lập trình viên chuyên nghiệp, giao tiếp hoàn toàn bằng tiếng Việt.\n",
    "\n",
    "            NGUYÊN TẮC TRẢ LỜI:\n",
    "            - Luôn trả lời bằng tiếng Việt, rõ ràng và dễ hiểu\n",
    "            - Phân tích kỹ yêu cầu bài toán trước khi đưa ra lời giải\n",
    "            - Giải thích code chi tiết, có comment tiếng Việt cho từng phần quan trọng\n",
    "            - Nêu rõ độ phức tạp và cách tối ưu thuật toán nếu có thể\n",
    "\n",
    "            ĐỊNH DẠNG TRẢ LỜI:\n",
    "            1. Phân tích yêu cầu bài toán\n",
    "            2. Ý tưởng giải quyết \n",
    "            3. Code mẫu + giải thích\n",
    "            4. Độ phức tạp và tối ưu\"\"\"},\n",
    "            \n",
    "            {\"role\": \"user\", \"content\": prompt}\n",
    "        ],\n",
    "        temperature=0.3,\n",
    "        max_tokens=8192,\n",
    "        top_p=0.8,\n",
    "        stream=False\n",
    "    )\n",
    "\n",
    "    return response.choices[0].message.content"
   ]
  },
  {
   "cell_type": "code",
   "execution_count": 11,
   "id": "ea930fc2",
   "metadata": {},
   "outputs": [
    {
     "name": "stdout",
     "output_type": "stream",
     "text": [
      "Chatbot: Xin chào! Bạn muốn hỏi gì?\n",
      "Chatbot: **Phân tích vấn đề**\n",
      "\n",
      "Cho mảng số nguyên A[] gồm N phần tử, hãy tìm số xuất hiện nhiều nhất trong mảng. Nếu có nhiều số có cùng số lần xuất hiện nhiều nhất thì chọn số nhỏ nhất trong số đó.\n",
      "\n",
      "**Ý tưởng giải quyết**\n",
      "\n",
      "Để giải quyết vấn đề này, chúng ta có thể sử dụng một cấu trúc dữ liệu là map (hay dictionary) để đếm tần suất xuất hiện của mỗi số trong mảng. Sau đó, chúng ta sẽ tìm số có tần suất xuất hiện nhiều nhất và chọn số nhỏ nhất trong số đó.\n",
      "\n",
      "**Code mẫu**\n",
      "```cpp\n",
      "#include <iostream>\n",
      "#include <map>\n",
      "\n",
      "using namespace std;\n",
      "\n",
      "int main() {\n",
      "    int N;\n",
      "    cin >> N;\n",
      "    map<int, int> freq;\n",
      "    for (int i = 0; i < N; i++) {\n",
      "        int num;\n",
      "        cin >> num;\n",
      "        freq[num]++;\n",
      "    }\n",
      "\n",
      "    int max_freq = 0;\n",
      "    int min_num = INT_MAX;\n",
      "    for (auto it = freq.begin(); it != freq.end(); it++) {\n",
      "        if (it->second > max_freq) {\n",
      "            max_freq = it->second;\n",
      "            min_num = it->first;\n",
      "        } else if (it->second == max_freq) {\n",
      "            min_num = min(min_num, it->first);\n",
      "        }\n",
      "    }\n",
      "\n",
      "    cout << min_num << \" \" << max_freq << endl;\n",
      "    return 0;\n",
      "}\n",
      "```\n",
      "**Giải thích code**\n",
      "\n",
      "* Đầu tiên, chúng ta đọc vào số lượng phần tử N và tạo một map `freq` để đếm tần suất xuất hiện của mỗi số.\n",
      "* Sau đó, chúng ta đọc vào từng phần tử của mảng và tăng tần suất xuất hiện của mỗi số trong map `freq`.\n",
      "* Tiếp theo, chúng ta tìm số có tần suất xuất hiện nhiều nhất và chọn số nhỏ nhất trong số đó bằng cách duyệt qua map `freq`.\n",
      "* Cuối cùng, chúng ta in ra số có tần suất xuất hiện nhiều nhất và tần suất xuất hiện của nó.\n",
      "\n",
      "**Độ phức tạp**\n",
      "\n",
      "Độ phức tạp của thuật toán này là O(N), vì chúng ta phải duyệt qua toàn bộ mảng một lần để đếm tần suất xuất hiện của mỗi số.\n",
      "\n",
      "**Lưu ý**\n",
      "\n",
      "* Chúng ta có thể sử dụng cấu trúc dữ liệu khác như array hoặc vector để đếm tần suất xuất hiện của mỗi số, nhưng sử dụng map sẽ giúp chúng ta dễ dàng hơn trong việc tìm số có tần suất xuất hiện nhiều nhất.\n",
      "* Chúng ta cũng có thể sử dụng thuật toán khác như sử dụng một mảng đếm tần suất xuất hiện của mỗi số, nhưng sử dụng map sẽ giúp chúng ta dễ dàng hơn trong việc tìm số có tần suất xuất hiện nhiều nhất.\n"
     ]
    }
   ],
   "source": [
    "print(\"Chatbot: Xin chào! Bạn muốn hỏi gì?\")\n",
    "\n",
    "user_input = \"\"\"\n",
    "Lập trình bằng C++\n",
    "Cho mảng số nguyên A\\[] gồm N phần tử. Hãy tìm số xuất hiện nhiều nhất trong mảng.\n",
    "Nếu có nhiều số có cùng số lần xuất hiện nhiều nhất thì chọn số nhỏ nhất trong số đó.\n",
    "\n",
    "Đầu vào:\n",
    "* Dòng đầu tiên là số nguyên dương N (số lượng phần tử trong mảng).\n",
    "* Dòng thứ hai gồm N số nguyên, là các phần tử của mảng A, các số cách nhau bởi một dấu cách.\n",
    "\n",
    "Giới hạn:\n",
    "1 ≤ N ≤ 10^5\n",
    "-10^9 ≤ A\\[i] ≤ 10^9\n",
    "\n",
    "Đầu ra:\n",
    "* In ra 2 số nguyên cách nhau một dấu cách:\n",
    "* Số có số lần xuất hiện nhiều nhất trong mảng.\n",
    "* Số lần xuất hiện của số đó.\n",
    "\n",
    "Ví dụ:\n",
    "Input:\n",
    "5\n",
    "1 2 2 1 3\n",
    "\n",
    "Output:\n",
    "1 2\n",
    "\"\"\"\n",
    "\n",
    "answer = get_answer(user_input)\n",
    "print(\"Chatbot:\", answer)"
   ]
  }
 ],
 "metadata": {
  "kernelspec": {
   "display_name": "orb-slam-py",
   "language": "python",
   "name": "python3"
  },
  "language_info": {
   "codemirror_mode": {
    "name": "ipython",
    "version": 3
   },
   "file_extension": ".py",
   "mimetype": "text/x-python",
   "name": "python",
   "nbconvert_exporter": "python",
   "pygments_lexer": "ipython3",
   "version": "3.10.16"
  }
 },
 "nbformat": 4,
 "nbformat_minor": 5
}
